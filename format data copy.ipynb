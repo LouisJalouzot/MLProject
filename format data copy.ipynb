{
  "cells": [
    {
      "cell_type": "code",
      "execution_count": 2,
      "metadata": {
        "id": "nRSlxT4q5EHJ"
      },
      "outputs": [],
      "source": [
        "import pandas as pd\n",
        "import numpy as np\n",
        "import matplotlib.pyplot as plt\n",
        "from tensorflow import keras\n",
        "from sklearn.preprocessing import MinMaxScaler"
      ]
    },
    {
      "cell_type": "code",
      "execution_count": 4,
      "metadata": {
        "id": "2fRF6mEW5QbK"
      },
      "outputs": [],
      "source": [
        "xTrain = pd.read_csv('input_train__fppJZ22.csv')\n",
        "yTrain = pd.read_csv('y_train_CGZ7jXu.csv')"
      ]
    },
    {
      "cell_type": "code",
      "execution_count": 5,
      "metadata": {},
      "outputs": [
        {
          "data": {
            "text/html": [
              "<div>\n",
              "<style scoped>\n",
              "    .dataframe tbody tr th:only-of-type {\n",
              "        vertical-align: middle;\n",
              "    }\n",
              "\n",
              "    .dataframe tbody tr th {\n",
              "        vertical-align: top;\n",
              "    }\n",
              "\n",
              "    .dataframe thead th {\n",
              "        text-align: right;\n",
              "    }\n",
              "</style>\n",
              "<table border=\"1\" class=\"dataframe\">\n",
              "  <thead>\n",
              "    <tr style=\"text-align: right;\">\n",
              "      <th></th>\n",
              "      <th>id</th>\n",
              "      <th>cluster</th>\n",
              "      <th>day</th>\n",
              "      <th>asset</th>\n",
              "      <th>md</th>\n",
              "      <th>bc</th>\n",
              "      <th>ret_1</th>\n",
              "      <th>ret_2</th>\n",
              "      <th>ret_3</th>\n",
              "      <th>ret_4</th>\n",
              "      <th>...</th>\n",
              "      <th>ret_14</th>\n",
              "      <th>ret_15</th>\n",
              "      <th>ret_16</th>\n",
              "      <th>ret_17</th>\n",
              "      <th>ret_18</th>\n",
              "      <th>ret_19</th>\n",
              "      <th>ret_20</th>\n",
              "      <th>ret_21</th>\n",
              "      <th>ret_22</th>\n",
              "      <th>ret_23</th>\n",
              "    </tr>\n",
              "  </thead>\n",
              "  <tbody>\n",
              "    <tr>\n",
              "      <th>0</th>\n",
              "      <td>0</td>\n",
              "      <td>0</td>\n",
              "      <td>17</td>\n",
              "      <td>10</td>\n",
              "      <td>-5.734573</td>\n",
              "      <td>0.125855</td>\n",
              "      <td>-0.002060</td>\n",
              "      <td>0.005848</td>\n",
              "      <td>-0.002736</td>\n",
              "      <td>-0.005487</td>\n",
              "      <td>...</td>\n",
              "      <td>NaN</td>\n",
              "      <td>-0.000339</td>\n",
              "      <td>0.001018</td>\n",
              "      <td>-0.002372</td>\n",
              "      <td>-0.000340</td>\n",
              "      <td>-0.000680</td>\n",
              "      <td>-0.007140</td>\n",
              "      <td>0.006849</td>\n",
              "      <td>0.002041</td>\n",
              "      <td>-0.001697</td>\n",
              "    </tr>\n",
              "    <tr>\n",
              "      <th>1</th>\n",
              "      <td>1</td>\n",
              "      <td>0</td>\n",
              "      <td>0</td>\n",
              "      <td>13</td>\n",
              "      <td>-5.813696</td>\n",
              "      <td>0.418711</td>\n",
              "      <td>-0.042280</td>\n",
              "      <td>-0.009460</td>\n",
              "      <td>-0.005173</td>\n",
              "      <td>-0.006000</td>\n",
              "      <td>...</td>\n",
              "      <td>0.004107</td>\n",
              "      <td>-0.005726</td>\n",
              "      <td>0.006993</td>\n",
              "      <td>-0.003268</td>\n",
              "      <td>0.015574</td>\n",
              "      <td>-0.010492</td>\n",
              "      <td>0.004486</td>\n",
              "      <td>0.011368</td>\n",
              "      <td>0.001606</td>\n",
              "      <td>0.000401</td>\n",
              "    </tr>\n",
              "    <tr>\n",
              "      <th>2</th>\n",
              "      <td>2</td>\n",
              "      <td>0</td>\n",
              "      <td>20</td>\n",
              "      <td>12</td>\n",
              "      <td>-5.814399</td>\n",
              "      <td>0.500111</td>\n",
              "      <td>0.003665</td>\n",
              "      <td>-0.010841</td>\n",
              "      <td>0.007557</td>\n",
              "      <td>0.004981</td>\n",
              "      <td>...</td>\n",
              "      <td>-0.000113</td>\n",
              "      <td>-0.000170</td>\n",
              "      <td>-0.002833</td>\n",
              "      <td>-0.007442</td>\n",
              "      <td>-0.001832</td>\n",
              "      <td>-0.005677</td>\n",
              "      <td>-0.007093</td>\n",
              "      <td>0.001626</td>\n",
              "      <td>0.004349</td>\n",
              "      <td>-0.004677</td>\n",
              "    </tr>\n",
              "    <tr>\n",
              "      <th>3</th>\n",
              "      <td>3</td>\n",
              "      <td>0</td>\n",
              "      <td>19</td>\n",
              "      <td>12</td>\n",
              "      <td>-5.814399</td>\n",
              "      <td>0.500111</td>\n",
              "      <td>-0.018364</td>\n",
              "      <td>0.003789</td>\n",
              "      <td>0.011795</td>\n",
              "      <td>0.016029</td>\n",
              "      <td>...</td>\n",
              "      <td>0.005604</td>\n",
              "      <td>-0.009794</td>\n",
              "      <td>-0.001023</td>\n",
              "      <td>-0.002959</td>\n",
              "      <td>0.002568</td>\n",
              "      <td>-0.005579</td>\n",
              "      <td>0.001317</td>\n",
              "      <td>-0.010005</td>\n",
              "      <td>0.004677</td>\n",
              "      <td>-0.004196</td>\n",
              "    </tr>\n",
              "    <tr>\n",
              "      <th>4</th>\n",
              "      <td>4</td>\n",
              "      <td>0</td>\n",
              "      <td>18</td>\n",
              "      <td>12</td>\n",
              "      <td>-5.814399</td>\n",
              "      <td>0.500111</td>\n",
              "      <td>-0.001589</td>\n",
              "      <td>0.011711</td>\n",
              "      <td>-0.010507</td>\n",
              "      <td>-0.002555</td>\n",
              "      <td>...</td>\n",
              "      <td>0.002530</td>\n",
              "      <td>-0.018505</td>\n",
              "      <td>-0.010855</td>\n",
              "      <td>0.002022</td>\n",
              "      <td>0.001211</td>\n",
              "      <td>-0.002648</td>\n",
              "      <td>0.001559</td>\n",
              "      <td>-0.001153</td>\n",
              "      <td>0.000635</td>\n",
              "      <td>0.001961</td>\n",
              "    </tr>\n",
              "  </tbody>\n",
              "</table>\n",
              "<p>5 rows × 29 columns</p>\n",
              "</div>"
            ],
            "text/plain": [
              "   id  cluster  day  asset        md        bc     ret_1     ret_2     ret_3  \\\n",
              "0   0        0   17     10 -5.734573  0.125855 -0.002060  0.005848 -0.002736   \n",
              "1   1        0    0     13 -5.813696  0.418711 -0.042280 -0.009460 -0.005173   \n",
              "2   2        0   20     12 -5.814399  0.500111  0.003665 -0.010841  0.007557   \n",
              "3   3        0   19     12 -5.814399  0.500111 -0.018364  0.003789  0.011795   \n",
              "4   4        0   18     12 -5.814399  0.500111 -0.001589  0.011711 -0.010507   \n",
              "\n",
              "      ret_4  ...    ret_14    ret_15    ret_16    ret_17    ret_18    ret_19  \\\n",
              "0 -0.005487  ...       NaN -0.000339  0.001018 -0.002372 -0.000340 -0.000680   \n",
              "1 -0.006000  ...  0.004107 -0.005726  0.006993 -0.003268  0.015574 -0.010492   \n",
              "2  0.004981  ... -0.000113 -0.000170 -0.002833 -0.007442 -0.001832 -0.005677   \n",
              "3  0.016029  ...  0.005604 -0.009794 -0.001023 -0.002959  0.002568 -0.005579   \n",
              "4 -0.002555  ...  0.002530 -0.018505 -0.010855  0.002022  0.001211 -0.002648   \n",
              "\n",
              "     ret_20    ret_21    ret_22    ret_23  \n",
              "0 -0.007140  0.006849  0.002041 -0.001697  \n",
              "1  0.004486  0.011368  0.001606  0.000401  \n",
              "2 -0.007093  0.001626  0.004349 -0.004677  \n",
              "3  0.001317 -0.010005  0.004677 -0.004196  \n",
              "4  0.001559 -0.001153  0.000635  0.001961  \n",
              "\n",
              "[5 rows x 29 columns]"
            ]
          },
          "execution_count": 5,
          "metadata": {},
          "output_type": "execute_result"
        }
      ],
      "source": [
        "xTrain.head()"
      ]
    },
    {
      "cell_type": "code",
      "execution_count": null,
      "metadata": {},
      "outputs": [],
      "source": [
        "xTrain['sample_id'] = XTrain['cluster'] * 21"
      ]
    },
    {
      "cell_type": "code",
      "execution_count": null,
      "metadata": {
        "id": "dtAgIrE66u6x"
      },
      "outputs": [],
      "source": [
        "scaler = MinMaxScaler()"
      ]
    },
    {
      "cell_type": "code",
      "execution_count": null,
      "metadata": {
        "id": "ijgmVYgC6zBz"
      },
      "outputs": [],
      "source": [
        "scaler.fit(train)\n",
        "scaled_train = scaler.transform(train)\n",
        "scaled_test = scaler.transform(test)"
      ]
    },
    {
      "cell_type": "code",
      "execution_count": null,
      "metadata": {
        "colab": {
          "base_uri": "https://localhost:8080/"
        },
        "id": "BrdKbJ3g6-Et",
        "outputId": "ec956dda-aab6-433c-d846-523769fa65e7"
      },
      "outputs": [
        {
          "data": {
            "text/plain": [
              "array([[0.08653846],\n",
              "       [0.01923077],\n",
              "       [0.20913462],\n",
              "       [0.24759615],\n",
              "       [0.41826923],\n",
              "       [0.34615385],\n",
              "       [0.20913462],\n",
              "       [0.11057692],\n",
              "       [0.03605769],\n",
              "       [0.05769231]])"
            ]
          },
          "execution_count": 81,
          "metadata": {
            "tags": []
          },
          "output_type": "execute_result"
        }
      ],
      "source": [
        "scaled_train[:10]"
      ]
    },
    {
      "cell_type": "code",
      "execution_count": null,
      "metadata": {
        "id": "0xryZ7rR62y5"
      },
      "outputs": [],
      "source": [
        "from keras.preprocessing.sequence import TimeseriesGenerator"
      ]
    },
    {
      "cell_type": "code",
      "execution_count": null,
      "metadata": {
        "id": "CqyTKCVt69Z9"
      },
      "outputs": [],
      "source": [
        "# define generator\n",
        "n_input = 3\n",
        "n_features = 1\n",
        "generator = TimeseriesGenerator(scaled_train, scaled_train, length=n_input, batch_size=1)"
      ]
    },
    {
      "cell_type": "code",
      "execution_count": null,
      "metadata": {
        "colab": {
          "base_uri": "https://localhost:8080/"
        },
        "id": "ip6y5Ene7OM7",
        "outputId": "f8405e12-f285-4394-b2a4-d84b6e6dfec4"
      },
      "outputs": [
        {
          "name": "stdout",
          "output_type": "stream",
          "text": [
            "Given the Array: \n",
            "[0.08653846 0.01923077 0.20913462]\n",
            "Predict this y: \n",
            " [[0.24759615]]\n"
          ]
        }
      ],
      "source": [
        "X,y = generator[0]\n",
        "print(f'Given the Array: \\n{X.flatten()}')\n",
        "print(f'Predict this y: \\n {y}')"
      ]
    },
    {
      "cell_type": "code",
      "execution_count": null,
      "metadata": {
        "colab": {
          "base_uri": "https://localhost:8080/"
        },
        "id": "bQyGmvsi8HyR",
        "outputId": "2124feb3-263f-46ce-cb56-7b564bc3298c"
      },
      "outputs": [
        {
          "data": {
            "text/plain": [
              "(1, 3, 1)"
            ]
          },
          "execution_count": 65,
          "metadata": {
            "tags": []
          },
          "output_type": "execute_result"
        }
      ],
      "source": [
        "X.shape"
      ]
    },
    {
      "cell_type": "code",
      "execution_count": null,
      "metadata": {
        "id": "jm-T4H4I7UaV"
      },
      "outputs": [],
      "source": [
        "# We do the same thing, but now instead for 12 months\n",
        "n_input = 12\n",
        "generator = TimeseriesGenerator(scaled_train, scaled_train, length=n_input, batch_size=1)"
      ]
    },
    {
      "cell_type": "code",
      "execution_count": null,
      "metadata": {
        "id": "bzIs_l_k7Zqg"
      },
      "outputs": [],
      "source": [
        "from keras.models import Sequential\n",
        "from keras.layers import Dense\n",
        "from keras.layers import LSTM"
      ]
    },
    {
      "cell_type": "code",
      "execution_count": null,
      "metadata": {
        "id": "eJa-wFQf7jw6"
      },
      "outputs": [],
      "source": [
        "# define model\n",
        "model = Sequential()\n",
        "model.add(LSTM(100, activation='relu', input_shape=(n_input, n_features)))\n",
        "model.add(Dense(1))\n",
        "model.compile(optimizer='adam', loss='mse')"
      ]
    },
    {
      "cell_type": "code",
      "execution_count": null,
      "metadata": {
        "colab": {
          "base_uri": "https://localhost:8080/"
        },
        "id": "7i4ucUNv7lbk",
        "outputId": "7f66fb4d-f3af-4d9c-ae3a-9eb97a722ea6"
      },
      "outputs": [
        {
          "name": "stdout",
          "output_type": "stream",
          "text": [
            "Model: \"sequential_1\"\n",
            "_________________________________________________________________\n",
            "Layer (type)                 Output Shape              Param #   \n",
            "=================================================================\n",
            "lstm_1 (LSTM)                (None, 100)               40800     \n",
            "_________________________________________________________________\n",
            "dense_1 (Dense)              (None, 1)                 101       \n",
            "=================================================================\n",
            "Total params: 40,901\n",
            "Trainable params: 40,901\n",
            "Non-trainable params: 0\n",
            "_________________________________________________________________\n"
          ]
        }
      ],
      "source": [
        "model.summary()"
      ]
    },
    {
      "cell_type": "code",
      "execution_count": null,
      "metadata": {
        "colab": {
          "base_uri": "https://localhost:8080/"
        },
        "id": "p8yqUZaz7nwp",
        "outputId": "94c9f117-53be-438c-ba31-d7c7fa546f42"
      },
      "outputs": [
        {
          "name": "stdout",
          "output_type": "stream",
          "text": [
            "Epoch 1/50\n",
            "144/144 [==============================] - 2s 5ms/step - loss: 0.0784\n",
            "Epoch 2/50\n",
            "144/144 [==============================] - 1s 5ms/step - loss: 0.0248\n",
            "Epoch 3/50\n",
            "144/144 [==============================] - 1s 5ms/step - loss: 0.0169\n",
            "Epoch 4/50\n",
            "144/144 [==============================] - 1s 5ms/step - loss: 0.0134\n",
            "Epoch 5/50\n",
            "144/144 [==============================] - 1s 5ms/step - loss: 0.0128\n",
            "Epoch 6/50\n",
            "144/144 [==============================] - 1s 5ms/step - loss: 0.0073\n",
            "Epoch 7/50\n",
            "144/144 [==============================] - 1s 5ms/step - loss: 0.0053\n",
            "Epoch 8/50\n",
            "144/144 [==============================] - 1s 5ms/step - loss: 0.0056\n",
            "Epoch 9/50\n",
            "144/144 [==============================] - 1s 5ms/step - loss: 0.0047\n",
            "Epoch 10/50\n",
            "144/144 [==============================] - 1s 5ms/step - loss: 0.0040\n",
            "Epoch 11/50\n",
            "144/144 [==============================] - 1s 5ms/step - loss: 0.0034\n",
            "Epoch 12/50\n",
            "144/144 [==============================] - 1s 5ms/step - loss: 0.0035\n",
            "Epoch 13/50\n",
            "144/144 [==============================] - 1s 6ms/step - loss: 0.0038\n",
            "Epoch 14/50\n",
            "144/144 [==============================] - 1s 6ms/step - loss: 0.0038\n",
            "Epoch 15/50\n",
            "144/144 [==============================] - 1s 6ms/step - loss: 0.0048\n",
            "Epoch 16/50\n",
            "144/144 [==============================] - 1s 6ms/step - loss: 0.0029\n",
            "Epoch 17/50\n",
            "144/144 [==============================] - 1s 6ms/step - loss: 0.0029\n",
            "Epoch 18/50\n",
            "144/144 [==============================] - 1s 5ms/step - loss: 0.0059\n",
            "Epoch 19/50\n",
            "144/144 [==============================] - 1s 5ms/step - loss: 0.0029\n",
            "Epoch 20/50\n",
            "144/144 [==============================] - 1s 6ms/step - loss: 0.0027\n",
            "Epoch 21/50\n",
            "144/144 [==============================] - 1s 5ms/step - loss: 0.0030\n",
            "Epoch 22/50\n",
            "144/144 [==============================] - 1s 5ms/step - loss: 0.0031\n",
            "Epoch 23/50\n",
            "144/144 [==============================] - 1s 5ms/step - loss: 0.0034\n",
            "Epoch 24/50\n",
            "144/144 [==============================] - 1s 6ms/step - loss: 0.0034\n",
            "Epoch 25/50\n",
            "144/144 [==============================] - 1s 6ms/step - loss: 0.0041\n",
            "Epoch 26/50\n",
            "144/144 [==============================] - 1s 5ms/step - loss: 0.0039\n",
            "Epoch 27/50\n",
            "144/144 [==============================] - 1s 5ms/step - loss: 0.0026\n",
            "Epoch 28/50\n",
            "144/144 [==============================] - 1s 5ms/step - loss: 0.0042\n",
            "Epoch 29/50\n",
            "144/144 [==============================] - 1s 5ms/step - loss: 0.0025\n",
            "Epoch 30/50\n",
            "144/144 [==============================] - 1s 5ms/step - loss: 0.0035\n",
            "Epoch 31/50\n",
            "144/144 [==============================] - 1s 5ms/step - loss: 0.0026\n",
            "Epoch 32/50\n",
            "144/144 [==============================] - 1s 5ms/step - loss: 0.0029\n",
            "Epoch 33/50\n",
            "144/144 [==============================] - 1s 5ms/step - loss: 0.0024\n",
            "Epoch 34/50\n",
            "144/144 [==============================] - 1s 5ms/step - loss: 0.0026\n",
            "Epoch 35/50\n",
            "144/144 [==============================] - 1s 5ms/step - loss: 0.0030\n",
            "Epoch 36/50\n",
            "144/144 [==============================] - 1s 5ms/step - loss: 0.0035\n",
            "Epoch 37/50\n",
            "144/144 [==============================] - 1s 5ms/step - loss: 0.0029\n",
            "Epoch 38/50\n",
            "144/144 [==============================] - 1s 5ms/step - loss: 0.0022\n",
            "Epoch 39/50\n",
            "144/144 [==============================] - 1s 5ms/step - loss: 0.0021\n",
            "Epoch 40/50\n",
            "144/144 [==============================] - 1s 5ms/step - loss: 0.0031\n",
            "Epoch 41/50\n",
            "144/144 [==============================] - 1s 5ms/step - loss: 0.0025\n",
            "Epoch 42/50\n",
            "144/144 [==============================] - 1s 5ms/step - loss: 0.0017\n",
            "Epoch 43/50\n",
            "144/144 [==============================] - 1s 6ms/step - loss: 0.0019\n",
            "Epoch 44/50\n",
            "144/144 [==============================] - 1s 6ms/step - loss: 0.0021\n",
            "Epoch 45/50\n",
            "144/144 [==============================] - 1s 5ms/step - loss: 0.0027\n",
            "Epoch 46/50\n",
            "144/144 [==============================] - 1s 6ms/step - loss: 0.0019\n",
            "Epoch 47/50\n",
            "144/144 [==============================] - 1s 5ms/step - loss: 0.0019\n",
            "Epoch 48/50\n",
            "144/144 [==============================] - 1s 5ms/step - loss: 0.0021\n",
            "Epoch 49/50\n",
            "144/144 [==============================] - 1s 6ms/step - loss: 0.0021\n",
            "Epoch 50/50\n",
            "144/144 [==============================] - 1s 5ms/step - loss: 0.0020\n"
          ]
        },
        {
          "data": {
            "text/plain": [
              "<tensorflow.python.keras.callbacks.History at 0x7f8f219a16d0>"
            ]
          },
          "execution_count": 70,
          "metadata": {
            "tags": []
          },
          "output_type": "execute_result"
        }
      ],
      "source": [
        "# fit model\n",
        "model.fit(generator,epochs=50)"
      ]
    },
    {
      "cell_type": "code",
      "execution_count": null,
      "metadata": {
        "colab": {
          "base_uri": "https://localhost:8080/",
          "height": 282
        },
        "id": "OjDsOKR67rs8",
        "outputId": "46a3d438-6cea-4a47-f4bf-b60f2246561d"
      },
      "outputs": [
        {
          "data": {
            "text/plain": [
              "[<matplotlib.lines.Line2D at 0x7f8f21cbb290>]"
            ]
          },
          "execution_count": 71,
          "metadata": {
            "tags": []
          },
          "output_type": "execute_result"
        },
        {
          "data": {
            "image/png": "[encoded data removed]",
            "text/plain": [
              "<Figure size 432x288 with 1 Axes>"
            ]
          },
          "metadata": {
            "needs_background": "light",
            "tags": []
          },
          "output_type": "display_data"
        }
      ],
      "source": [
        "loss_per_epoch = model.history.history['loss']\n",
        "plt.plot(range(len(loss_per_epoch)),loss_per_epoch)"
      ]
    },
    {
      "cell_type": "code",
      "execution_count": null,
      "metadata": {
        "id": "h6h-fell70_S"
      },
      "outputs": [],
      "source": [
        "last_train_batch = scaled_train[-12:]"
      ]
    },
    {
      "cell_type": "code",
      "execution_count": null,
      "metadata": {
        "id": "cwwv8O-p79bN"
      },
      "outputs": [],
      "source": [
        "last_train_batch = last_train_batch.reshape((1, n_input, n_features))"
      ]
    },
    {
      "cell_type": "code",
      "execution_count": null,
      "metadata": {
        "colab": {
          "base_uri": "https://localhost:8080/"
        },
        "id": "v-4WD4t78MpJ",
        "outputId": "6f5ab088-0933-41e7-cf6a-239dc4236d6d"
      },
      "outputs": [
        {
          "data": {
            "text/plain": [
              "array([[0.6046513]], dtype=float32)"
            ]
          },
          "execution_count": 74,
          "metadata": {
            "tags": []
          },
          "output_type": "execute_result"
        }
      ],
      "source": [
        "model.predict(last_train_batch)"
      ]
    },
    {
      "cell_type": "code",
      "execution_count": null,
      "metadata": {
        "colab": {
          "base_uri": "https://localhost:8080/"
        },
        "id": "ZbojFADE8StA",
        "outputId": "e708a2e2-ccf1-48e7-cace-a3b7a6202de1"
      },
      "outputs": [
        {
          "data": {
            "text/plain": [
              "array([0.67548077])"
            ]
          },
          "execution_count": 75,
          "metadata": {
            "tags": []
          },
          "output_type": "execute_result"
        }
      ],
      "source": [
        "scaled_test[0]"
      ]
    },
    {
      "cell_type": "code",
      "execution_count": null,
      "metadata": {
        "id": "_MP-5Wez8jbY"
      },
      "outputs": [],
      "source": [
        "test_predictions = []\n",
        "\n",
        "first_eval_batch = scaled_train[-n_input:]\n",
        "current_batch = first_eval_batch.reshape((1, n_input, n_features))\n",
        "\n",
        "for i in range(len(test)):\n",
        "    \n",
        "    # get the prediction value for the first batch\n",
        "    current_pred = model.predict(current_batch)[0]\n",
        "    \n",
        "    # append the prediction into the array\n",
        "    test_predictions.append(current_pred) \n",
        "    \n",
        "    # use the prediction to update the batch and remove the first value\n",
        "    current_batch = np.append(current_batch[:,1:,:],[[current_pred]],axis=1)"
      ]
    },
    {
      "cell_type": "code",
      "execution_count": null,
      "metadata": {
        "colab": {
          "base_uri": "https://localhost:8080/"
        },
        "id": "_mhvFuEy8sB7",
        "outputId": "e65693ce-1c66-46b1-91e2-069e239ca984"
      },
      "outputs": [
        {
          "data": {
            "text/plain": [
              "[array([0.6046513], dtype=float32),\n",
              " array([0.5854211], dtype=float32),\n",
              " array([0.7456695], dtype=float32),\n",
              " array([0.8121553], dtype=float32),\n",
              " array([0.911981], dtype=float32),\n",
              " array([0.8914289], dtype=float32),\n",
              " array([0.8224216], dtype=float32),\n",
              " array([0.7289473], dtype=float32),\n",
              " array([0.6303051], dtype=float32),\n",
              " array([0.59199744], dtype=float32),\n",
              " array([0.54971915], dtype=float32),\n",
              " array([0.5722453], dtype=float32)]"
            ]
          },
          "execution_count": 77,
          "metadata": {
            "tags": []
          },
          "output_type": "execute_result"
        }
      ],
      "source": [
        "test_predictions"
      ]
    },
    {
      "cell_type": "code",
      "execution_count": null,
      "metadata": {
        "colab": {
          "base_uri": "https://localhost:8080/",
          "height": 228
        },
        "id": "YYSqV10E9hlO",
        "outputId": "fe8ed427-3d97-429e-9349-115ba1168bc0"
      },
      "outputs": [
        {
          "data": {
            "text/html": [
              "<div>\n",
              "<style scoped>\n",
              "    .dataframe tbody tr th:only-of-type {\n",
              "        vertical-align: middle;\n",
              "    }\n",
              "\n",
              "    .dataframe tbody tr th {\n",
              "        vertical-align: top;\n",
              "    }\n",
              "\n",
              "    .dataframe thead th {\n",
              "        text-align: right;\n",
              "    }\n",
              "</style>\n",
              "<table border=\"1\" class=\"dataframe\">\n",
              "  <thead>\n",
              "    <tr style=\"text-align: right;\">\n",
              "      <th></th>\n",
              "      <th>Production</th>\n",
              "      <th>Predictions</th>\n",
              "    </tr>\n",
              "    <tr>\n",
              "      <th>Date</th>\n",
              "      <th></th>\n",
              "      <th></th>\n",
              "    </tr>\n",
              "  </thead>\n",
              "  <tbody>\n",
              "    <tr>\n",
              "      <th>1975-01-01</th>\n",
              "      <td>834</td>\n",
              "      <td>813.303572</td>\n",
              "    </tr>\n",
              "    <tr>\n",
              "      <th>1975-02-01</th>\n",
              "      <td>782</td>\n",
              "      <td>809.682804</td>\n",
              "    </tr>\n",
              "    <tr>\n",
              "      <th>1975-03-01</th>\n",
              "      <td>892</td>\n",
              "      <td>879.037941</td>\n",
              "    </tr>\n",
              "    <tr>\n",
              "      <th>1975-04-01</th>\n",
              "      <td>903</td>\n",
              "      <td>912.407272</td>\n",
              "    </tr>\n",
              "    <tr>\n",
              "      <th>1975-05-01</th>\n",
              "      <td>966</td>\n",
              "      <td>954.157072</td>\n",
              "    </tr>\n",
              "  </tbody>\n",
              "</table>\n",
              "</div>"
            ],
            "text/plain": [
              "            Production  Predictions\n",
              "Date                               \n",
              "1975-01-01         834   813.303572\n",
              "1975-02-01         782   809.682804\n",
              "1975-03-01         892   879.037941\n",
              "1975-04-01         903   912.407272\n",
              "1975-05-01         966   954.157072"
            ]
          },
          "execution_count": 78,
          "metadata": {
            "tags": []
          },
          "output_type": "execute_result"
        }
      ],
      "source": [
        "test.head()"
      ]
    },
    {
      "cell_type": "code",
      "execution_count": null,
      "metadata": {
        "id": "BHHzjNDK9EJZ"
      },
      "outputs": [],
      "source": [
        "true_predictions = scaler.inverse_transform(test_predictions)"
      ]
    },
    {
      "cell_type": "code",
      "execution_count": null,
      "metadata": {
        "id": "0dsN45zf9I9u"
      },
      "outputs": [],
      "source": [
        "test['Predictions'] = true_predictions"
      ]
    },
    {
      "cell_type": "code",
      "execution_count": null,
      "metadata": {
        "colab": {
          "base_uri": "https://localhost:8080/",
          "height": 366
        },
        "id": "xJ7sI5xh9Lb0",
        "outputId": "6aeaec0b-9c02-4d87-ca51-987048dae0ba"
      },
      "outputs": [
        {
          "data": {
            "text/plain": [
              "<matplotlib.axes._subplots.AxesSubplot at 0x7f8f2020fed0>"
            ]
          },
          "execution_count": 87,
          "metadata": {
            "tags": []
          },
          "output_type": "execute_result"
        },
        {
          "data": {
            "image/png": "[encoded data removed]",
            "text/plain": [
              "<Figure size 1008x360 with 1 Axes>"
            ]
          },
          "metadata": {
            "needs_background": "light",
            "tags": []
          },
          "output_type": "display_data"
        }
      ],
      "source": [
        "test.plot(figsize=(14,5))"
      ]
    },
    {
      "cell_type": "code",
      "execution_count": null,
      "metadata": {
        "colab": {
          "base_uri": "https://localhost:8080/"
        },
        "id": "OCsYjzge9OVe",
        "outputId": "4771bf0b-a885-4e3f-d16e-b5b9bd255cc2"
      },
      "outputs": [
        {
          "name": "stdout",
          "output_type": "stream",
          "text": [
            "24.270639050894633\n"
          ]
        }
      ],
      "source": [
        "from sklearn.metrics import mean_squared_error\n",
        "from math import sqrt\n",
        "rmse=sqrt(mean_squared_error(test['Production'],test['Predictions']))\n",
        "print(rmse)"
      ]
    },
    {
      "cell_type": "code",
      "execution_count": null,
      "metadata": {
        "id": "Bld3MIqDNW6I"
      },
      "outputs": [],
      "source": []
    }
  ],
  "metadata": {
    "colab": {
      "collapsed_sections": [],
      "name": "RNN_Youtube.ipynb",
      "provenance": []
    },
    "interpreter": {
      "hash": "916dbcbb3f70747c44a77c7bcd40155683ae19c65e1c03b4aa3499c5328201f1"
    },
    "kernelspec": {
      "display_name": "Python 3.9.7 64-bit",
      "name": "python3"
    },
    "language_info": {
      "codemirror_mode": {
        "name": "ipython",
        "version": 3
      },
      "file_extension": ".py",
      "mimetype": "text/x-python",
      "name": "python",
      "nbconvert_exporter": "python",
      "pygments_lexer": "ipython3",
      "version": "3.9.7"
    }
  },
  "nbformat": 4,
  "nbformat_minor": 0
}
