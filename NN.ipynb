{
 "cells": [
  {
   "cell_type": "code",
   "execution_count": 3,
   "metadata": {},
   "outputs": [],
   "source": [
    "import pandas as pd\n",
    "import pickle\n",
    "import torch\n",
    "from torch import nn\n",
    "import numpy as np"
   ]
  },
  {
   "cell_type": "code",
   "execution_count": 9,
   "metadata": {},
   "outputs": [],
   "source": [
    "x_train = pd.read_csv('input_train__fppJZ22.csv')\n",
    "x_train = x_train.drop(['md', 'bc', 'asset', 'day'], axis=1)\n",
    "y_train = pd.read_csv('y_train_CGZ7jXu.csv')\n",
    "x_test = pd.read_csv('input_test__2scdXsn.csv')\n",
    "# y_rand = pd.read_csv('y_rand.csv')"
   ]
  },
  {
   "cell_type": "code",
   "execution_count": 12,
   "metadata": {},
   "outputs": [
    {
     "name": "stdout",
     "output_type": "stream",
     "text": [
      "1463\n",
      "2100\n"
     ]
    },
    {
     "data": {
      "text/plain": [
       "<AxesSubplot:ylabel='Density'>"
      ]
     },
     "execution_count": 12,
     "metadata": {},
     "output_type": "execute_result"
    },
    {
     "data": {
      "image/png": "[encoded data removed]",
      "text/plain": [
       "<Figure size 432x288 with 1 Axes>"
      ]
     },
     "metadata": {
      "needs_background": "light"
     },
     "output_type": "display_data"
    }
   ],
   "source": [
    "print(max(x_train['cluster']))\n",
    "print(x_train.groupby('cluster').size().max())\n",
    "x_train.groupby('cluster').size().plot.kde()"
   ]
  },
  {
   "cell_type": "code",
   "execution_count": 35,
   "metadata": {},
   "outputs": [
    {
     "name": "stdout",
     "output_type": "stream",
     "text": [
      "Net(\n",
      "  (nn): Sequential(\n",
      "    (0): Linear(in_features=240, out_features=120, bias=True)\n",
      "    (1): Linear(in_features=120, out_features=84, bias=True)\n",
      "    (2): Linear(in_features=84, out_features=10, bias=True)\n",
      "  )\n",
      ")\n"
     ]
    }
   ],
   "source": [
    "epochs = 10\n",
    "inputSize = 25\n",
    "hiddenSize = 50\n",
    "numLayers = 1\n",
    "lr = 1e-3\n",
    "loss = torch.nn.MSELoss()\n",
    "nn = torch.nn.RNN(inputSize, hiddenSize, numLayers)\n",
    "optimizer = torch.optim.Adam(nn.parameters())\n",
    "for day, cluster in enumerate(range(5)):\n",
    "    X = 5\n",
    "    Y = 5\n",
    "    hidden = torch.zeros(hiddenSize)\n",
    "    input = torch.cat((X, hidden), 1)\n",
    "    for epoch in range(epochs):\n",
    "        optimizer.zero_grad()\n",
    "        output, _ = nn(input)\n",
    "        loss_value = loss(output, Y)\n",
    "        loss_value.backward()\n",
    "        optimizer.step()\n",
    "        if epoch % 5:\n",
    "            print(f\"Day: {day}, Cluster: {cluster}, Epoch: {epoch}, Loss: {loss_value.item()}\")"
   ]
  }
 ],
 "metadata": {
  "interpreter": {
   "hash": "916dbcbb3f70747c44a77c7bcd40155683ae19c65e1c03b4aa3499c5328201f1"
  },
  "kernelspec": {
   "display_name": "Python 3.9.7 64-bit",
   "name": "python3"
  },
  "language_info": {
   "codemirror_mode": {
    "name": "ipython",
    "version": 3
   },
   "file_extension": ".py",
   "mimetype": "text/x-python",
   "name": "python",
   "nbconvert_exporter": "python",
   "pygments_lexer": "ipython3",
   "version": "3.8.10"
  },
  "orig_nbformat": 4
 },
 "nbformat": 4,
 "nbformat_minor": 2
}
