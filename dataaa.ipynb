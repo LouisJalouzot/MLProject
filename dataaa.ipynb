{
 "cells": [
  {
   "cell_type": "code",
   "execution_count": 1,
   "metadata": {},
   "outputs": [],
   "source": [
    "import pandas as pd\n",
    "import pickle\n",
    "import numpy as np"
   ]
  },
  {
   "cell_type": "code",
   "execution_count": 2,
   "metadata": {},
   "outputs": [],
   "source": [
    "with open(\"/home/lwi/data/MLProject/adjacency_matrices.pkl\", \"rb\") as file:\n",
    "    adj = pickle.load(file)"
   ]
  },
  {
   "cell_type": "code",
   "execution_count": 3,
   "metadata": {},
   "outputs": [],
   "source": [
    "xTrain = pd.read_csv(\"~/data/MLProject/xTrain.csv\", index_col=0)\n",
    "xTest = pd.read_csv(\"~/data/MLProject/xTest.csv\", index_col=0)"
   ]
  },
  {
   "cell_type": "code",
   "execution_count": 4,
   "metadata": {},
   "outputs": [],
   "source": [
    "xTrain['sample_id'] = 21 * xTrain['cluster'] + xTrain['day']\n",
    "xTrain.set_index('sample_id', inplace=True)\n",
    "xTrain.sort_index(inplace=True)\n",
    "xTest['sample_id'] = 21 * xTest['cluster'] + xTest['day']\n",
    "xTest.set_index('sample_id', inplace=True)\n",
    "xTest.sort_index(inplace=True)"
   ]
  },
  {
   "cell_type": "code",
   "execution_count": 5,
   "metadata": {},
   "outputs": [],
   "source": [
    "xTrain.drop(columns=['id', 'day', 'asset'], inplace=True)\n",
    "xTest.drop(columns=['id', 'day', 'asset'], inplace=True)"
   ]
  },
  {
   "cell_type": "code",
   "execution_count": 6,
   "metadata": {},
   "outputs": [],
   "source": [
    "xTrain['size_cluster'] = xTrain['cluster'].transform(lambda nb: adj[nb].shape[0])\n",
    "xTrain['prop_correlated'] = xTrain['cluster'].transform(lambda nb: adj[nb].sum().sum() / adj[nb].size)\n",
    "xTest['size_cluster'] = xTest['cluster'].transform(lambda nb: adj[nb].shape[0])\n",
    "xTest['prop_correlated'] = xTest['cluster'].transform(lambda nb: adj[nb].sum().sum() / adj[nb].size)"
   ]
  },
  {
   "cell_type": "code",
   "execution_count": 9,
   "metadata": {},
   "outputs": [],
   "source": [
    "xTrainMean = xTrain.drop(columns='cluster').groupby('sample_id').mean()\n",
    "xTrainStd = xTrain.drop(columns=['cluster', 'size_cluster', 'prop_correlated']).groupby('sample_id').std()\n",
    "xTrainStd = xTrainStd.rename(columns={att: att+\"_std\" for att in xTrainStd.columns})\n",
    "xTrainMedian = xTrain.drop(columns=['cluster', 'size_cluster', 'prop_correlated']).groupby('sample_id').median()\n",
    "xTrainMedian = xTrainMedian.rename(columns={att: att+\"_med\" for att in xTrainMedian.columns})\n",
    "xTrainMean.join(xTrainStd).join(xTrainMedian).fillna(0).to_csv(\"~/data/MLProject/xTrainFinal.csv\")"
   ]
  },
  {
   "cell_type": "code",
   "execution_count": 10,
   "metadata": {},
   "outputs": [],
   "source": [
    "xTestMean = xTest.drop(columns='cluster').groupby('sample_id').mean()\n",
    "xTestStd = xTest.drop(columns=['cluster', 'size_cluster', 'prop_correlated']).groupby('sample_id').std()\n",
    "xTestStd = xTestStd.rename(columns={att: att+\"_std\" for att in xTestStd.columns})\n",
    "xTestMedian = xTest.drop(columns=['cluster', 'size_cluster', 'prop_correlated']).groupby('sample_id').median()\n",
    "xTestMedian = xTestMedian.rename(columns={att: att+\"_med\" for att in xTestMedian.columns})\n",
    "xTestMean.join(xTestStd).join(xTestMedian).fillna(0).to_csv(\"~/data/MLProject/xTestFinal.csv\")"
   ]
  }
 ],
 "metadata": {
  "interpreter": {
   "hash": "916dbcbb3f70747c44a77c7bcd40155683ae19c65e1c03b4aa3499c5328201f1"
  },
  "kernelspec": {
   "display_name": "Python 3.8.10 64-bit",
   "language": "python",
   "name": "python3"
  },
  "language_info": {
   "codemirror_mode": {
    "name": "ipython",
    "version": 3
   },
   "file_extension": ".py",
   "mimetype": "text/x-python",
   "name": "python",
   "nbconvert_exporter": "python",
   "pygments_lexer": "ipython3",
   "version": "3.8.10"
  },
  "orig_nbformat": 4
 },
 "nbformat": 4,
 "nbformat_minor": 2
}
